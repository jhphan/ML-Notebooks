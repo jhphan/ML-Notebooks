{
  "nbformat": 4,
  "nbformat_minor": 0,
  "metadata": {
    "colab": {
      "name": "Untitled1.ipynb",
      "provenance": [],
      "authorship_tag": "ABX9TyO9ANNGsPWO7FE0cmx40iIm",
      "include_colab_link": true
    },
    "kernelspec": {
      "name": "python3",
      "display_name": "Python 3"
    },
    "language_info": {
      "name": "python"
    }
  },
  "cells": [
    {
      "cell_type": "markdown",
      "metadata": {
        "id": "view-in-github",
        "colab_type": "text"
      },
      "source": [
        "<a href=\"https://colab.research.google.com/github/jhphan/ML-Notebooks/blob/main/test-notebook.ipynb\" target=\"_parent\"><img src=\"https://colab.research.google.com/assets/colab-badge.svg\" alt=\"Open In Colab\"/></a>"
      ]
    },
    {
      "cell_type": "code",
      "metadata": {
        "id": "M6BEFHj2dd5a"
      },
      "source": [
        "!gcloud auth application-default login"
      ],
      "execution_count": null,
      "outputs": []
    },
    {
      "cell_type": "code",
      "metadata": {
        "id": "x5tjmCK1e_Eo"
      },
      "source": [
        "# Load BigQuery API\n",
        "from google.cloud import bigquery\n",
        "\n",
        "# Create a client to access the data within BigQuery\n",
        "client = bigquery.Client('isb-cgc')\n",
        "\n",
        "# Create a variable of datasets \n",
        "datasets = list(client.list_datasets())\n",
        "# Create a variable for the name of the project\n",
        "project = client.project\n",
        "\n",
        "# If there are datasets available then print their names,\n",
        "# else print that there are no data sets available\n",
        "if datasets:\n",
        "    print(\"Datasets in project {}:\".format(project))\n",
        "    for dataset in datasets:  # API request(s)\n",
        "        print(\"\\t{}\".format(dataset.dataset_id))\n",
        "else:\n",
        "    print(\"{} project does not contain any datasets.\".format(project))"
      ],
      "execution_count": null,
      "outputs": []
    },
    {
      "cell_type": "code",
      "metadata": {
        "id": "NbfXnHc6fhBW"
      },
      "source": [
        ""
      ],
      "execution_count": null,
      "outputs": []
    }
  ]
}