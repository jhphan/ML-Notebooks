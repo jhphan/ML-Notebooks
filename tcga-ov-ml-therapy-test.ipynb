{
  "nbformat": 4,
  "nbformat_minor": 0,
  "metadata": {
    "colab": {
      "name": "Untitled1.ipynb",
      "provenance": [],
      "authorship_tag": "ABX9TyPq6yZcBP2mG3JAVk4isJ05",
      "include_colab_link": true
    },
    "kernelspec": {
      "name": "python3",
      "display_name": "Python 3"
    },
    "language_info": {
      "name": "python"
    }
  },
  "cells": [
    {
      "cell_type": "markdown",
      "metadata": {
        "id": "view-in-github",
        "colab_type": "text"
      },
      "source": [
        "<a href=\"https://colab.research.google.com/github/jhphan/ML-Notebooks/blob/main/tcga-ov-ml-therapy-test.ipynb\" target=\"_parent\"><img src=\"https://colab.research.google.com/assets/colab-badge.svg\" alt=\"Open In Colab\"/></a>"
      ]
    },
    {
      "cell_type": "markdown",
      "metadata": {
        "id": "mHZQUz-Ccg6Q"
      },
      "source": [
        "# ISB-CGC Machine Learning Notebooks\n",
        "Check out other notebooks at our [Community Notebooks Repository](https://github.com/isb-cgc/Community-Notebooks)!\n",
        "\n",
        "- **Title:** Building a simple gene expression-based classifier\n",
        "- **Author:** John Phan\n",
        "- **Created:** 2021-07-07\n",
        "- **Purpose:** Demonstrate a basic machine learning method to predict a cancer endpoint using gene expression data.\n",
        "- **URL:** https://github.com/isb-cgc/Community-Notebooks\n",
        "- **Note1:** This example is based on the work published by [Bosquet et al.](https://molecular-cancer.biomedcentral.com/articles/10.1186/s12943-016-0548-9)\n",
        "\n",
        "\n",
        "This notebook demonstrates how to build a basic machine learning model to predict ovarian cancer treatment outcome. Ovarian cancer gene expression data is pulled from a BigQuery table and formatted using Pandas. The data is then split into training and testing sets to build and test a logistic regression classifier using scikit-learn. "
      ]
    },
    {
      "cell_type": "markdown",
      "metadata": {
        "id": "Xt7xj7pagtVv"
      },
      "source": [
        "## Import Dependencies"
      ]
    },
    {
      "cell_type": "code",
      "metadata": {
        "id": "LNlADvO-gken"
      },
      "source": [
        "# GCP libraries\n",
        "from google.cloud import bigquery\n",
        "from google.colab import auth\n",
        "\n",
        "# Pandas\n",
        "import pandas as pd\n",
        "\n",
        "# Machine learning\n",
        "from sklearn.preprocessing import StandardScaler\n",
        "from sklearn.linear_model import LogisticRegression\n",
        "from sklearn import metrics\n"
      ],
      "execution_count": 1,
      "outputs": []
    },
    {
      "cell_type": "markdown",
      "metadata": {
        "id": "fwhlgg-NndUl"
      },
      "source": [
        "## Authenticate\n",
        "\n",
        "Before using BigQuery, we need to get authorized for access to BigQuery and the Google Cloud. For more information see ['Quick Start Guide to ISB-CGC'](https://isb-cancer-genomics-cloud.readthedocs.io/en/latest/sections/HowToGetStartedonISB-CGC.html). Alternative authentication methods can be found [here](https://googleapis.dev/python/google-api-core/latest/auth.html)."
      ]
    },
    {
      "cell_type": "code",
      "metadata": {
        "id": "M6BEFHj2dd5a"
      },
      "source": [
        "# if you're using Google Colab, authenticate to gcloud with the following\n",
        "auth.authenticate_user()\n",
        "\n",
        "# alternatively, use the gcloud SDK\n",
        "#!gcloud auth application-default login"
      ],
      "execution_count": 2,
      "outputs": []
    },
    {
      "cell_type": "markdown",
      "metadata": {
        "id": "RWuECMsRptWJ"
      },
      "source": [
        "## Parameters\n",
        "\n",
        "Customize the following parameters based on your notebook, execution environment, or project."
      ]
    },
    {
      "cell_type": "code",
      "metadata": {
        "id": "veP6gPatu2iW"
      },
      "source": [
        "# set the google project that will be billed for this notebook's computations\n",
        "google_project = 'cgc-05-0051'\n",
        "\n",
        "# in this example, we'll be using the Ovarian cancer TCGA dataset\n",
        "cancer_type = 'TCGA-OV'\n",
        "\n",
        "# gene expression data will be pulled from this BigQuery project\n",
        "bq_project = 'isb-cgc-bq'\n",
        "\n"
      ],
      "execution_count": 3,
      "outputs": []
    },
    {
      "cell_type": "markdown",
      "metadata": {
        "id": "F6zTODbDq3g9"
      },
      "source": [
        "## BigQuery Client\n",
        "\n",
        "Create the BigQuery client"
      ]
    },
    {
      "cell_type": "code",
      "metadata": {
        "id": "HNkfSXedwzbC"
      },
      "source": [
        "# Create a client to access the data within BigQuery\n",
        "client = bigquery.Client(google_project)"
      ],
      "execution_count": 4,
      "outputs": []
    },
    {
      "cell_type": "markdown",
      "metadata": {
        "id": "i4jPuJnUYkju"
      },
      "source": [
        "## Get Gene Expression Data from Big Query Table\n",
        "\n",
        "Pull RNA-seq gene expression data from the TCGA RNA-seq BigQuery table and join it with the clinical data table to create a labeled data frame. In this example, we will label the samples based on therapy outcome. \"Complete Remission/Response\" will be labeled as \"1\" while all other therapy outcomes will be labeled as \"0\". This will prepare the data to build a binary classifier. "
      ]
    },
    {
      "cell_type": "code",
      "metadata": {
        "id": "WYKK8nT7Rzpa",
        "colab": {
          "base_uri": "https://localhost:8080/"
        },
        "outputId": "ac64040c-ef0e-4bba-9560-83bcd0898c88"
      },
      "source": [
        "ge_data = client.query((\"\"\"\n",
        "  SELECT\n",
        "    ge.case_barcode AS sample,\n",
        "    labels.response_label AS label,\n",
        "    ge.gene_name AS gene_name,\n",
        "    -- Multiple samples may exist per case, take the max value\n",
        "    MAX(LOG(ge.HTSeq__FPKM_UQ+1)) AS gene_expression\n",
        "  FROM `{}.TCGA.RNAseq_hg38_gdc_current` AS ge\n",
        "  INNER JOIN (\n",
        "    SELECT\n",
        "      *\n",
        "    FROM (\n",
        "      SELECT\n",
        "        case_barcode,\n",
        "        primary_therapy_outcome_success,\n",
        "        CASE\n",
        "          -- Complete Reponse    --> label as 1\n",
        "          -- All other responses --> label as 0\n",
        "          WHEN primary_therapy_outcome_success = 'Complete Remission/Response' THEN 1\n",
        "          WHEN (\n",
        "            primary_therapy_outcome_success IN (\n",
        "              'Partial Remission/Response','Progressive Disease','Stable Disease'\n",
        "            )\n",
        "          ) THEN 0\n",
        "        END AS response_label\n",
        "        FROM `{}.TCGA_versioned.clinical_gdc_2019_06`\n",
        "        WHERE\n",
        "          project_short_name = '{}'\n",
        "          AND primary_therapy_outcome_success IS NOT NULL\n",
        "    )\n",
        "  ) labels\n",
        "  ON labels.case_barcode = ge.case_barcode\n",
        "  WHERE gene_name IN ( -- 33 Gene signature, leave out PRSS2 (aka TRYP2)\n",
        "    'RHOT1','MYO7A','ZBTB10','MATK','ST18','RPS23','GCNT1','DROSHA','NUAK1','CCPG1',\n",
        "    'PDGFD','KLRAP1','MTAP','RNF13','THBS1','MLX','FAP','TIMP3','PRSS1','SLC7A11',\n",
        "    'OLFML3','RPS20','MCM5','POLE','STEAP4','LRRC8D','WBP1L','ENTPD5','SYNE1','DPT',\n",
        "    'COPZ2','TRIO','PDPR'\n",
        "  )\n",
        "  GROUP BY sample, label, gene_name\n",
        "\"\"\").format(bq_project, bq_project, cancer_type)).result().to_dataframe()\n",
        "\n",
        "print(ge_data.info())"
      ],
      "execution_count": 5,
      "outputs": [
        {
          "output_type": "stream",
          "text": [
            "<class 'pandas.core.frame.DataFrame'>\n",
            "RangeIndex: 8712 entries, 0 to 8711\n",
            "Data columns (total 4 columns):\n",
            " #   Column           Non-Null Count  Dtype  \n",
            "---  ------           --------------  -----  \n",
            " 0   sample           8712 non-null   object \n",
            " 1   label            8712 non-null   int64  \n",
            " 2   gene_name        8712 non-null   object \n",
            " 3   gene_expression  8712 non-null   float64\n",
            "dtypes: float64(1), int64(1), object(2)\n",
            "memory usage: 272.4+ KB\n",
            "None\n"
          ],
          "name": "stdout"
        }
      ]
    },
    {
      "cell_type": "markdown",
      "metadata": {
        "id": "addOpIFRs8qA"
      },
      "source": [
        "## Reshape the Data\n",
        "\n",
        "The data pulled from BigQuery is formatted such that each row corresponds to a sample/gene combination. However, to use the data with scikit-learn to create a prediction model, we'll need to reshape the data such that each row corresponds to a sample and each column corresponds to a gene. We'll use Pandas to pivot the data as follows."
      ]
    },
    {
      "cell_type": "code",
      "metadata": {
        "id": "osUyrjFEm8Ji",
        "colab": {
          "base_uri": "https://localhost:8080/"
        },
        "outputId": "d77c90e6-86c0-414c-87a4-ab45ea0fde94"
      },
      "source": [
        "ge_data_pivot = ge_data.pivot(index=('sample', 'label'), columns='gene_name', values='gene_expression').reset_index(level=['sample','label'])\n",
        "print(ge_data_pivot.info())"
      ],
      "execution_count": 6,
      "outputs": [
        {
          "output_type": "stream",
          "text": [
            "<class 'pandas.core.frame.DataFrame'>\n",
            "RangeIndex: 264 entries, 0 to 263\n",
            "Data columns (total 35 columns):\n",
            " #   Column   Non-Null Count  Dtype  \n",
            "---  ------   --------------  -----  \n",
            " 0   sample   264 non-null    object \n",
            " 1   label    264 non-null    int64  \n",
            " 2   CCPG1    264 non-null    float64\n",
            " 3   COPZ2    264 non-null    float64\n",
            " 4   DPT      264 non-null    float64\n",
            " 5   DROSHA   264 non-null    float64\n",
            " 6   ENTPD5   264 non-null    float64\n",
            " 7   FAP      264 non-null    float64\n",
            " 8   GCNT1    264 non-null    float64\n",
            " 9   KLRAP1   264 non-null    float64\n",
            " 10  LRRC8D   264 non-null    float64\n",
            " 11  MATK     264 non-null    float64\n",
            " 12  MCM5     264 non-null    float64\n",
            " 13  MLX      264 non-null    float64\n",
            " 14  MTAP     264 non-null    float64\n",
            " 15  MYO7A    264 non-null    float64\n",
            " 16  NUAK1    264 non-null    float64\n",
            " 17  OLFML3   264 non-null    float64\n",
            " 18  PDGFD    264 non-null    float64\n",
            " 19  PDPR     264 non-null    float64\n",
            " 20  POLE     264 non-null    float64\n",
            " 21  PRSS1    264 non-null    float64\n",
            " 22  RHOT1    264 non-null    float64\n",
            " 23  RNF13    264 non-null    float64\n",
            " 24  RPS20    264 non-null    float64\n",
            " 25  RPS23    264 non-null    float64\n",
            " 26  SLC7A11  264 non-null    float64\n",
            " 27  ST18     264 non-null    float64\n",
            " 28  STEAP4   264 non-null    float64\n",
            " 29  SYNE1    264 non-null    float64\n",
            " 30  THBS1    264 non-null    float64\n",
            " 31  TIMP3    264 non-null    float64\n",
            " 32  TRIO     264 non-null    float64\n",
            " 33  WBP1L    264 non-null    float64\n",
            " 34  ZBTB10   264 non-null    float64\n",
            "dtypes: float64(33), int64(1), object(1)\n",
            "memory usage: 72.3+ KB\n",
            "None\n"
          ],
          "name": "stdout"
        }
      ]
    },
    {
      "cell_type": "markdown",
      "metadata": {
        "id": "SQ1bf9Civ98z"
      },
      "source": [
        "## Prepare the Data for Prediction Modeling\n",
        "\n",
        "Prepare the data by splitting it into training and testing sets, and scaling the data. It is important that prediction models are tested on samples that are independent from the training samples in order to accurately estimate performance. "
      ]
    },
    {
      "cell_type": "code",
      "metadata": {
        "id": "VF90HWh_SM5e"
      },
      "source": [
        "# remove the sample names column from the data frame\n",
        "ge_data_pivot_nosample = ge_data_pivot.drop(labels='sample',axis=1)\n",
        "\n",
        "# split data into train and test sets, 50% in train and 50% in test. \n",
        "# The \"random_state\" variable can be used to reproduce the split\n",
        "train_data = ge_data_pivot_nosample.sample(frac=0.5, random_state=1).sort_index()\n",
        "\n",
        "# the test data is what remains after removing the train data\n",
        "test_data = ge_data_pivot_nosample.drop(train_data.index)\n",
        "\n",
        "# store the data in a dict for easy access\n",
        "data = dict()\n",
        "data['train_y'] = train_data.pop('label')\n",
        "data['test_y'] = test_data.pop('label')\n",
        "\n",
        "# using scikit-learn, scale the data to 0 mean and unit variance. This is\n",
        "# required for some machine learning methods.\n",
        "scaler = StandardScaler()\n",
        "\n",
        "# store the scaled data in the dict\n",
        "data['train_x'] = scaler.fit_transform(train_data)\n",
        "data['test_x'] = scaler.transform(test_data)\n",
        "data['scaler'] = scaler\n"
      ],
      "execution_count": 7,
      "outputs": []
    },
    {
      "cell_type": "markdown",
      "metadata": {
        "id": "5OFmgBYi_h4m"
      },
      "source": [
        "## Train and Test the Prediction Model\n",
        "\n",
        "We will use a simple logistic regression classifier implemented by scikit-learn. More information about the classifier can be found [here](https://scikit-learn.org/stable/modules/generated/sklearn.linear_model.LogisticRegression.html).  "
      ]
    },
    {
      "cell_type": "code",
      "metadata": {
        "id": "y7mw7rfeLaIk",
        "colab": {
          "base_uri": "https://localhost:8080/"
        },
        "outputId": "10ce9284-e1c1-417f-f898-d509f58e8a91"
      },
      "source": [
        "# train a logistic regression model\n",
        "lr = LogisticRegression(max_iter=1000)\n",
        "lr.fit(data['train_x'], data['train_y'])\n",
        "\n",
        "# predict samples in the test set\n",
        "pred = lr.decision_function(data['test_x'])\n",
        "\n",
        "# calculate the ROC curve and AUC in order to gauge prediction performance\n",
        "fpr, tpr, thresholds = metrics.roc_curve(data['test_y'], pred)\n",
        "auc = metrics.auc(fpr, tpr)\n",
        "\n",
        "print('Prediction Performance (AUC):', auc)"
      ],
      "execution_count": 8,
      "outputs": [
        {
          "output_type": "stream",
          "text": [
            "auc: 0.741892254087376\n",
            "auc: 0.741892254087376 fpr: [0.         0.         0.         0.02439024 0.02439024 0.04878049\n",
            " 0.04878049 0.07317073 0.07317073 0.09756098 0.09756098 0.12195122\n",
            " 0.12195122 0.14634146 0.14634146 0.17073171 0.17073171 0.19512195\n",
            " 0.19512195 0.2195122  0.2195122  0.24390244 0.24390244 0.26829268\n",
            " 0.26829268 0.29268293 0.29268293 0.34146341 0.34146341 0.36585366\n",
            " 0.36585366 0.3902439  0.3902439  0.41463415 0.41463415 0.43902439\n",
            " 0.43902439 0.48780488 0.48780488 0.53658537 0.53658537 0.58536585\n",
            " 0.58536585 0.6097561  0.6097561  0.65853659 0.65853659 0.70731707\n",
            " 0.70731707 0.73170732 0.73170732 0.95121951 0.95121951 0.97560976\n",
            " 0.97560976 1.        ] tpr: [0.         0.01098901 0.17582418 0.17582418 0.25274725 0.25274725\n",
            " 0.3956044  0.3956044  0.41758242 0.41758242 0.42857143 0.42857143\n",
            " 0.43956044 0.43956044 0.48351648 0.48351648 0.49450549 0.49450549\n",
            " 0.51648352 0.51648352 0.53846154 0.53846154 0.61538462 0.61538462\n",
            " 0.62637363 0.62637363 0.63736264 0.63736264 0.65934066 0.65934066\n",
            " 0.72527473 0.72527473 0.73626374 0.73626374 0.75824176 0.75824176\n",
            " 0.76923077 0.76923077 0.78021978 0.78021978 0.84615385 0.84615385\n",
            " 0.85714286 0.85714286 0.87912088 0.87912088 0.91208791 0.91208791\n",
            " 0.95604396 0.95604396 0.96703297 0.96703297 0.98901099 0.98901099\n",
            " 1.         1.        ] thresh: [ 5.82135235  4.82135235  2.20674381  2.15550501  1.8750816   1.85849393\n",
            "  1.54986552  1.53488346  1.42657362  1.40982732  1.38019866  1.36682243\n",
            "  1.30583003  1.2917436   1.16487567  1.15402987  1.02995453  1.02386553\n",
            "  0.98655445  0.95763473  0.89960435  0.88717979  0.73988776  0.71820111\n",
            "  0.68591821  0.68160839  0.67180677  0.51085656  0.4903882   0.47774388\n",
            "  0.39924416  0.29013547  0.2729993   0.27002968  0.14206568  0.12315626\n",
            "  0.11136375  0.01467869 -0.01454532 -0.02294999 -0.20817793 -0.34747084\n",
            " -0.39591442 -0.40676916 -0.48639386 -0.5117013  -0.67539775 -0.73691955\n",
            " -1.00069999 -1.08756121 -1.12759931 -1.64140385 -2.28776613 -2.42669882\n",
            " -3.21388085 -3.25317446]\n"
          ],
          "name": "stdout"
        }
      ]
    },
    {
      "cell_type": "code",
      "metadata": {
        "id": "tOTSKzV4u4B9"
      },
      "source": [
        ""
      ],
      "execution_count": null,
      "outputs": []
    }
  ]
}