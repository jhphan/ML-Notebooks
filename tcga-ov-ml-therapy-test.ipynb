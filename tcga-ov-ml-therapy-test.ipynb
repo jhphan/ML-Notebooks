{
  "nbformat": 4,
  "nbformat_minor": 0,
  "metadata": {
    "colab": {
      "name": "Untitled1.ipynb",
      "provenance": [],
      "authorship_tag": "ABX9TyMBtNZjOdsJ0Z9dQTGbAXCF",
      "include_colab_link": true
    },
    "kernelspec": {
      "name": "python3",
      "display_name": "Python 3"
    },
    "language_info": {
      "name": "python"
    },
    "accelerator": "GPU"
  },
  "cells": [
    {
      "cell_type": "markdown",
      "metadata": {
        "id": "view-in-github",
        "colab_type": "text"
      },
      "source": [
        "<a href=\"https://colab.research.google.com/github/jhphan/ML-Notebooks/blob/main/tcga-ov-ml-therapy-test.ipynb\" target=\"_parent\"><img src=\"https://colab.research.google.com/assets/colab-badge.svg\" alt=\"Open In Colab\"/></a>"
      ]
    },
    {
      "cell_type": "code",
      "metadata": {
        "id": "M6BEFHj2dd5a"
      },
      "source": [
        "# authenticate to gcloud\n",
        "!gcloud auth application-default login"
      ],
      "execution_count": null,
      "outputs": []
    },
    {
      "cell_type": "code",
      "metadata": {
        "id": "veP6gPatu2iW"
      },
      "source": [
        "# udpate these variables\n",
        "client_project = 'cgc-05-0051'\n",
        "cancer_type = 'TCGA-OV'\n",
        "project = 'isb-cgc'"
      ],
      "execution_count": null,
      "outputs": []
    },
    {
      "cell_type": "code",
      "metadata": {
        "id": "YyiPNZ4uwpwP"
      },
      "source": [
        "# Load dependencies\n",
        "from google.cloud import bigquery\n",
        "import pandas as pd\n",
        "from sklearn.preprocessing import StandardScaler\n"
      ],
      "execution_count": null,
      "outputs": []
    },
    {
      "cell_type": "code",
      "metadata": {
        "id": "HNkfSXedwzbC"
      },
      "source": [
        "# Create a client to access the data within BigQuery\n",
        "client = bigquery.Client(client_project)"
      ],
      "execution_count": null,
      "outputs": []
    },
    {
      "cell_type": "code",
      "metadata": {
        "id": "WYKK8nT7Rzpa"
      },
      "source": [
        "protein_data = client.query(\n",
        "    (\"\"\"\n",
        "    SELECT \n",
        "      pe.case_barcode as sample, \n",
        "      labels.response_label as label,\n",
        "      pe.protein_name as protein_name,\n",
        "      pe.protein_expression as protein_expression\n",
        "    FROM `isb-cgc.TCGA_hg38_Data_v0.Protein_Expression` as pe\n",
        "    INNER JOIN (\n",
        "      SELECT *\n",
        "      FROM (\n",
        "        SELECT\n",
        "          case_barcode,\n",
        "          primary_therapy_outcome_success,\n",
        "          CASE\n",
        "            WHEN primary_therapy_outcome_success = 'Complete Remission/Response' THEN 1\n",
        "            WHEN (\n",
        "              primary_therapy_outcome_success IN (\n",
        "                'Partial Remission/Response', 'Progressive Disease', 'Stable Disease'\n",
        "              )\n",
        "            ) THEN 0\n",
        "          END AS response_label\n",
        "        FROM `isb-cgc.TCGA_bioclin_v0.Clinical`\n",
        "        WHERE\n",
        "          project_short_name = 'TCGA-OV' \n",
        "          AND primary_therapy_outcome_success IS NOT NULL\n",
        "      )\n",
        "    ) labels\n",
        "    ON labels.case_barcode = pe.case_barcode\n",
        "    \"\"\")\n",
        ")"
      ],
      "execution_count": null,
      "outputs": []
    },
    {
      "cell_type": "code",
      "metadata": {
        "id": "kgN1PtBvhNpx"
      },
      "source": [
        "# find and remove samples that have no valid protein values (all missing)\n",
        "samples_notnull = protein_expression.loc[:, 'p_AR':].notnull().sum(axis=1)>0\n",
        "# find and remove proteins that have any NULL values\n",
        "proteins_notnull = pd.Series(\n",
        "  [True, True],\n",
        "  index=['sample', 'label']\n",
        ").append(\n",
        "  protein_expression.loc[:, 'p_AR':].isnull().sum(axis=0)==0\n",
        ")\n",
        "# create a new filtered DF\n",
        "protein_expression_filtered = protein_expression.loc[samples_notnull, proteins_notnull]\n",
        "protein_expression_filtered"
      ],
      "execution_count": null,
      "outputs": []
    },
    {
      "cell_type": "code",
      "metadata": {
        "id": "VF90HWh_SM5e"
      },
      "source": [
        "# remove sample names from table\n",
        "protein_expression_filtered.pop('sample')\n",
        "\n",
        "# split data into train, val, and test sets\n",
        "train_data = protein_expression_filtered.sample(frac=0.8, random_state=1)\n",
        "val_data = protein_expression_filtered.drop(train_data.index)\n",
        "test_data = val_data.sample(frac=0.5, random_state=1)\n",
        "val_data = val_data.drop(test_data.index)\n",
        "\n",
        "data = dict()\n",
        "data['train_y'] = train_data.pop('label')\n",
        "data['val_y'] = val_data.pop('label')\n",
        "data['test_y'] = test_data.pop('label')\n",
        "\n",
        "# calculate fold change and get top 20 proteins\n",
        "train_fold_change = abs(train_data.loc[data['train_y']==1, 'p_AR':].mean(axis=0) - train_data.loc[data['train_y']==0, 'p_AR':].mean(axis=0))\n",
        "top_train_fold_change = train_fold_change.sort_values(ascending=False) #.head(10)\n",
        "\n",
        "scaler = StandardScaler()\n",
        "data['train_x'] = scaler.fit_transform(train_data.loc[:,top_train_fold_change.index])\n",
        "data['val_x'] = scaler.transform(val_data.loc[:,top_train_fold_change.index])\n",
        "data['test_x'] = scaler.transform(test_data.loc[:,top_train_fold_change.index])\n",
        "\n",
        "data['scaler'] = scaler"
      ],
      "execution_count": null,
      "outputs": []
    },
    {
      "cell_type": "code",
      "metadata": {
        "id": "RGY5mKD3ys8L"
      },
      "source": [
        "from sklearn import svm\n",
        "from sklearn.metrics import accuracy_score\n",
        "\n",
        "clf = svm.LinearSVC(max_iter=2000)\n",
        "clf.fit(data['train_x'], data['train_y'])\n",
        "pred = clf.predict(data['val_x'])\n",
        "acc = accuracy_score(data['val_y'], pred)\n",
        "acc, clf\n"
      ],
      "execution_count": null,
      "outputs": []
    },
    {
      "cell_type": "code",
      "metadata": {
        "id": "jdvjdKkLzRj_"
      },
      "source": [
        "data['val_y'], pred"
      ],
      "execution_count": null,
      "outputs": []
    },
    {
      "cell_type": "code",
      "metadata": {
        "id": "yiGNmYQomI28"
      },
      "source": [
        "# build DNN model\n",
        "\n",
        "from keras.layers import Input, Dense, Dropout\n",
        "from keras.models import Model\n",
        "\n",
        "input_features = data['train_x'].shape[1]\n",
        "\n",
        "# build the network\n",
        "inputs = Input(shape=(input_features,), name='input')\n",
        "x = Dense(64, activation='relu', name='hidden1', kernel_regularizer='l2')(inputs)\n",
        "x = Dropout(0.5)(x)\n",
        "x = Dense(32, activation='relu', name='hidden2', kernel_regularizer='l2')(x)\n",
        "x = Dense(16, activation='relu', name='hidden3')(x)\n",
        "x = Dense(8, activation='relu', name='hidden4')(x)\n",
        "x = Dense(4, activation='relu', name='hidden5')(x)\n",
        "prediction = Dense(1, activation='sigmoid', name='final')(inputs)\n",
        "model = Model(inputs=inputs, outputs=prediction)\n",
        "model.compile(optimizer='adam', loss='binary_crossentropy', metrics=['accuracy'])\n",
        "\n"
      ],
      "execution_count": null,
      "outputs": []
    },
    {
      "cell_type": "code",
      "metadata": {
        "id": "qtpCfoWDpk4n"
      },
      "source": [
        "model.fit(x=data['train_x'], y=data['train_y'], \\\n",
        "          batch_size=32, epochs=300, verbose=1, validation_data=(data['val_x'], data['val_y']))"
      ],
      "execution_count": null,
      "outputs": []
    },
    {
      "cell_type": "code",
      "metadata": {
        "id": "tOTSKzV4u4B9"
      },
      "source": [
        ""
      ],
      "execution_count": null,
      "outputs": []
    }
  ]
}