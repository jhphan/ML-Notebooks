{
  "nbformat": 4,
  "nbformat_minor": 0,
  "metadata": {
    "colab": {
      "name": "Untitled1.ipynb",
      "provenance": [],
      "authorship_tag": "ABX9TyNAw0XafbFHV03/puaDqtrV",
      "include_colab_link": true
    },
    "kernelspec": {
      "name": "python3",
      "display_name": "Python 3"
    },
    "language_info": {
      "name": "python"
    }
  },
  "cells": [
    {
      "cell_type": "markdown",
      "metadata": {
        "id": "view-in-github",
        "colab_type": "text"
      },
      "source": [
        "<a href=\"https://colab.research.google.com/github/jhphan/ML-Notebooks/blob/main/tcga-ov-ml-therapy-test.ipynb\" target=\"_parent\"><img src=\"https://colab.research.google.com/assets/colab-badge.svg\" alt=\"Open In Colab\"/></a>"
      ]
    },
    {
      "cell_type": "markdown",
      "metadata": {
        "id": "mHZQUz-Ccg6Q"
      },
      "source": [
        "# ISB-CGC Machine Learning Notebooks\n",
        "Check out other notebooks at our [Community Notebooks Repository](https://github.com/isb-cgc/Community-Notebooks)!\n",
        "\n",
        "- **Title:** Building a simple gene expression-based classifier\n",
        "- **Author:** John Phan\n",
        "- **Created:** 2021-07-07\n",
        "- **Purpose:** Demonstrate a basic machine learning method to predict a cancer endpoint using gene expression data.\n",
        "- **URL:** https://github.com/isb-cgc/Community-Notebooks\n",
        "- **Note1:** This example is based on the work published by [Bosquet et al.](https://molecular-cancer.biomedcentral.com/articles/10.1186/s12943-016-0548-9)\n",
        "\n",
        "\n",
        "This notebook demonstrates how to build a basic machine learning model to predict ovarian cancer treatment outcome. Ovarian cancer gene expression data is pulled from a BigQuery table and formatted using Pandas. The data is then split into training and testing sets to build and test a logistic regression classifier using scikit-learn. "
      ]
    },
    {
      "cell_type": "markdown",
      "metadata": {
        "id": "Xt7xj7pagtVv"
      },
      "source": [
        "## Import Dependencies"
      ]
    },
    {
      "cell_type": "code",
      "metadata": {
        "id": "LNlADvO-gken"
      },
      "source": [
        "# GCP libraries\n",
        "from google.cloud import bigquery\n",
        "from google.colab import auth\n",
        "\n",
        "# Pandas\n",
        "import pandas as pd\n",
        "\n",
        "# Machine learning\n",
        "from sklearn.preprocessing import StandardScaler\n",
        "\n"
      ],
      "execution_count": 1,
      "outputs": []
    },
    {
      "cell_type": "markdown",
      "metadata": {
        "id": "fwhlgg-NndUl"
      },
      "source": [
        "## Authenticate\n",
        "\n",
        "Before using BigQuery, we need to get authorized for access to BigQuery and the Google Cloud. For more information see ['Quick Start Guide to ISB-CGC'](https://isb-cancer-genomics-cloud.readthedocs.io/en/latest/sections/HowToGetStartedonISB-CGC.html). Alternative authentication methods can be found [here](https://googleapis.dev/python/google-api-core/latest/auth.html)."
      ]
    },
    {
      "cell_type": "code",
      "metadata": {
        "id": "M6BEFHj2dd5a"
      },
      "source": [
        "# if you're using Google Colab, authenticate to gcloud with the following\n",
        "auth.authenticate_user()\n",
        "\n",
        "# alternatively, use the gcloud SDK\n",
        "#!gcloud auth application-default login"
      ],
      "execution_count": 2,
      "outputs": []
    },
    {
      "cell_type": "markdown",
      "metadata": {
        "id": "RWuECMsRptWJ"
      },
      "source": [
        "## Parameters\n",
        "\n",
        "Customize the following parameters based on your notebook, execution environment, or project."
      ]
    },
    {
      "cell_type": "code",
      "metadata": {
        "id": "veP6gPatu2iW"
      },
      "source": [
        "# set the google project that will be billed for this notebook's computations\n",
        "google_project = 'cgc-05-0051'\n",
        "\n",
        "# in this example, we'll be using the Ovarian cancer TCGA dataset\n",
        "cancer_type = 'TCGA-OV'\n",
        "\n",
        "# gene expression data will be pulled from this BigQuery project\n",
        "bq_project = 'isb-cgc-bq'\n",
        "\n"
      ],
      "execution_count": 3,
      "outputs": []
    },
    {
      "cell_type": "markdown",
      "metadata": {
        "id": "F6zTODbDq3g9"
      },
      "source": [
        "## BigQuery Client\n",
        "\n",
        "Create the BigQuery client"
      ]
    },
    {
      "cell_type": "code",
      "metadata": {
        "id": "HNkfSXedwzbC"
      },
      "source": [
        "# Create a client to access the data within BigQuery\n",
        "client = bigquery.Client(google_project)"
      ],
      "execution_count": 4,
      "outputs": []
    },
    {
      "cell_type": "markdown",
      "metadata": {
        "id": "i4jPuJnUYkju"
      },
      "source": [
        "## Get Gene Expression Data from Big Query Table\n",
        "\n",
        "Pull RNA-seq gene expression data from the TCGA RNA-seq BigQuery table and join it with the clinical data table to create a labeled data frame. In this example, we will label the samples based on therapy outcome. \"Complete Remission/Response\" will be labeled as \"1\" while all other therapy outcomes will be labeled as \"0\". This will prepare the data to build a binary classifier. "
      ]
    },
    {
      "cell_type": "code",
      "metadata": {
        "id": "WYKK8nT7Rzpa",
        "colab": {
          "base_uri": "https://localhost:8080/"
        },
        "outputId": "ac64040c-ef0e-4bba-9560-83bcd0898c88"
      },
      "source": [
        "ge_data = client.query((\"\"\"\n",
        "  SELECT\n",
        "    ge.case_barcode AS sample,\n",
        "    labels.response_label AS label,\n",
        "    ge.gene_name AS gene_name,\n",
        "    -- Multiple samples may exist per case, take the max value\n",
        "    MAX(LOG(ge.HTSeq__FPKM_UQ+1)) AS gene_expression\n",
        "  FROM `{}.TCGA.RNAseq_hg38_gdc_current` AS ge\n",
        "  INNER JOIN (\n",
        "    SELECT\n",
        "      *\n",
        "    FROM (\n",
        "      SELECT\n",
        "        case_barcode,\n",
        "        primary_therapy_outcome_success,\n",
        "        CASE\n",
        "          -- Complete Reponse    --> label as 1\n",
        "          -- All other responses --> label as 0\n",
        "          WHEN primary_therapy_outcome_success = 'Complete Remission/Response' THEN 1\n",
        "          WHEN (\n",
        "            primary_therapy_outcome_success IN (\n",
        "              'Partial Remission/Response','Progressive Disease','Stable Disease'\n",
        "            )\n",
        "          ) THEN 0\n",
        "        END AS response_label\n",
        "        FROM `{}.TCGA_versioned.clinical_gdc_2019_06`\n",
        "        WHERE\n",
        "          project_short_name = '{}'\n",
        "          AND primary_therapy_outcome_success IS NOT NULL\n",
        "    )\n",
        "  ) labels\n",
        "  ON labels.case_barcode = ge.case_barcode\n",
        "  WHERE gene_name IN ( -- 33 Gene signature, leave out PRSS2 (aka TRYP2)\n",
        "    'RHOT1','MYO7A','ZBTB10','MATK','ST18','RPS23','GCNT1','DROSHA','NUAK1','CCPG1',\n",
        "    'PDGFD','KLRAP1','MTAP','RNF13','THBS1','MLX','FAP','TIMP3','PRSS1','SLC7A11',\n",
        "    'OLFML3','RPS20','MCM5','POLE','STEAP4','LRRC8D','WBP1L','ENTPD5','SYNE1','DPT',\n",
        "    'COPZ2','TRIO','PDPR'\n",
        "  )\n",
        "  GROUP BY sample, label, gene_name\n",
        "\"\"\").format(bq_project, bq_project, cancer_type)).result().to_dataframe()\n",
        "\n",
        "print(ge_data.info())"
      ],
      "execution_count": 5,
      "outputs": [
        {
          "output_type": "stream",
          "text": [
            "<class 'pandas.core.frame.DataFrame'>\n",
            "RangeIndex: 8712 entries, 0 to 8711\n",
            "Data columns (total 4 columns):\n",
            " #   Column           Non-Null Count  Dtype  \n",
            "---  ------           --------------  -----  \n",
            " 0   sample           8712 non-null   object \n",
            " 1   label            8712 non-null   int64  \n",
            " 2   gene_name        8712 non-null   object \n",
            " 3   gene_expression  8712 non-null   float64\n",
            "dtypes: float64(1), int64(1), object(2)\n",
            "memory usage: 272.4+ KB\n",
            "None\n"
          ],
          "name": "stdout"
        }
      ]
    },
    {
      "cell_type": "markdown",
      "metadata": {
        "id": "addOpIFRs8qA"
      },
      "source": [
        "## Format the Data\n",
        "\n",
        "The data pulled from BigQuery is formatted such that each row corresponds to a sample/gene combination. However, to use the data with scikit-learn to create a prediction model, we'll need to reshape the data such that each row corresponds to a sample and each column corresponds to a gene. We'll use Pandas to pivot the data as follows."
      ]
    },
    {
      "cell_type": "code",
      "metadata": {
        "id": "osUyrjFEm8Ji",
        "colab": {
          "base_uri": "https://localhost:8080/"
        },
        "outputId": "d77c90e6-86c0-414c-87a4-ab45ea0fde94"
      },
      "source": [
        "ge_data_pivot = ge_data.pivot(index=('sample', 'label'), columns='gene_name', values='gene_expression').reset_index(level=['sample','label'])\n",
        "print(ge_data_pivot.info())"
      ],
      "execution_count": 6,
      "outputs": [
        {
          "output_type": "stream",
          "text": [
            "<class 'pandas.core.frame.DataFrame'>\n",
            "RangeIndex: 264 entries, 0 to 263\n",
            "Data columns (total 35 columns):\n",
            " #   Column   Non-Null Count  Dtype  \n",
            "---  ------   --------------  -----  \n",
            " 0   sample   264 non-null    object \n",
            " 1   label    264 non-null    int64  \n",
            " 2   CCPG1    264 non-null    float64\n",
            " 3   COPZ2    264 non-null    float64\n",
            " 4   DPT      264 non-null    float64\n",
            " 5   DROSHA   264 non-null    float64\n",
            " 6   ENTPD5   264 non-null    float64\n",
            " 7   FAP      264 non-null    float64\n",
            " 8   GCNT1    264 non-null    float64\n",
            " 9   KLRAP1   264 non-null    float64\n",
            " 10  LRRC8D   264 non-null    float64\n",
            " 11  MATK     264 non-null    float64\n",
            " 12  MCM5     264 non-null    float64\n",
            " 13  MLX      264 non-null    float64\n",
            " 14  MTAP     264 non-null    float64\n",
            " 15  MYO7A    264 non-null    float64\n",
            " 16  NUAK1    264 non-null    float64\n",
            " 17  OLFML3   264 non-null    float64\n",
            " 18  PDGFD    264 non-null    float64\n",
            " 19  PDPR     264 non-null    float64\n",
            " 20  POLE     264 non-null    float64\n",
            " 21  PRSS1    264 non-null    float64\n",
            " 22  RHOT1    264 non-null    float64\n",
            " 23  RNF13    264 non-null    float64\n",
            " 24  RPS20    264 non-null    float64\n",
            " 25  RPS23    264 non-null    float64\n",
            " 26  SLC7A11  264 non-null    float64\n",
            " 27  ST18     264 non-null    float64\n",
            " 28  STEAP4   264 non-null    float64\n",
            " 29  SYNE1    264 non-null    float64\n",
            " 30  THBS1    264 non-null    float64\n",
            " 31  TIMP3    264 non-null    float64\n",
            " 32  TRIO     264 non-null    float64\n",
            " 33  WBP1L    264 non-null    float64\n",
            " 34  ZBTB10   264 non-null    float64\n",
            "dtypes: float64(33), int64(1), object(1)\n",
            "memory usage: 72.3+ KB\n",
            "None\n"
          ],
          "name": "stdout"
        }
      ]
    },
    {
      "cell_type": "code",
      "metadata": {
        "id": "VF90HWh_SM5e"
      },
      "source": [
        "# remove sample names from table\n",
        "ge_data_pivot_nosample = ge_data_pivot.drop(labels='sample',axis=1)\n",
        "#print(ge_data_pivot_nosample.info())\n",
        "#print(ge_data_pivot_nosample)\n",
        "\n",
        "# split data into train and test sets\n",
        "train_data = ge_data_pivot_nosample.sample(frac=0.5, random_state=1).sort_index()\n",
        "#print(train_data.info())\n",
        "#print(train_data)\n",
        "\n",
        "test_data = ge_data_pivot_nosample.drop(train_data.index)\n",
        "#print(test_data)\n",
        "#print(test_data.info())\n",
        "\n",
        "data = dict()\n",
        "data['train_y'] = train_data.pop('label')\n",
        "data['test_y'] = test_data.pop('label')\n",
        "\n",
        "#scaler = StandardScaler()\n",
        "data['train_x'] = scaler.fit_transform(train_data)\n",
        "data['test_x'] = scaler.transform(test_data)\n",
        "#data['scaler'] = scaler\n",
        "\n",
        "#print(data['train_y'])"
      ],
      "execution_count": null,
      "outputs": []
    },
    {
      "cell_type": "code",
      "metadata": {
        "id": "y7mw7rfeLaIk"
      },
      "source": [
        "from sklearn.linear_model import LogisticRegression\n",
        "from sklearn.ensemble import RandomForestClassifier\n",
        "from sklearn import metrics\n",
        "\n",
        "lr = LogisticRegression(max_iter=1000)\n",
        "lr.fit(data['train_x'], data['train_y'])\n",
        "pred = lr.decision_function(data['test_x'])\n",
        "fpr, tpr, thresholds = metrics.roc_curve(data['test_y'], pred)\n",
        "auc = metrics.auc(fpr, tpr)\n",
        "print('auc:', auc)\n",
        "print('auc:', auc, 'fpr:', fpr, 'tpr:', tpr, 'thresh:', thresholds)\n",
        "\n",
        "rf = RandomForestClassifier()\n",
        "rf.fit(data['train_x'], data['train_y'])\n",
        "pred = rf.predict(data['test_x'])\n",
        "pred_proba = rf.predict_proba(data['test_x'])\n",
        "print('pred:', pred)\n",
        "print('pred proba:', pred_proba)\n",
        "fpr, tpr, thresholds = metrics.roc_curve(data['test_y'], pred_proba[:,1])\n",
        "auc = metrics.auc(fpr, tpr)\n",
        "print('auc:', auc, 'fpr:', fpr, 'tpr:', tpr, 'thresh:', thresholds)\n"
      ],
      "execution_count": null,
      "outputs": []
    },
    {
      "cell_type": "code",
      "metadata": {
        "id": "RGY5mKD3ys8L",
        "colab": {
          "base_uri": "https://localhost:8080/"
        },
        "outputId": "0eec3fa6-5002-43d4-c22b-1827e409e110"
      },
      "source": [
        "from sklearn import svm\n",
        "from sklearn.metrics import accuracy_score\n",
        "\n",
        "sv = svm.SVC(gamma=0.001, C=100)\n",
        "sv.fit(data['train_x'], data['train_y'])\n",
        "pred = sv.decision_function(data['test_x'])\n",
        "print(pred)\n",
        "fpr, tpr, thresholds = metrics.roc_curve(data['test_y'], pred)\n",
        "auc = metrics.auc(fpr, tpr)\n",
        "print('auc:', auc, 'fpr:', fpr, 'tpr:', tpr, 'thresh:', thresholds)\n"
      ],
      "execution_count": null,
      "outputs": [
        {
          "output_type": "stream",
          "text": [
            "[-0.32458632 -2.25811669 -0.53890999 -0.09372597  0.29517058  1.64919899\n",
            " -0.04412576  0.92508798 -0.62389982 -0.44696897  2.32819176  2.7515359\n",
            "  2.15020502  1.25747519  0.37994827  1.45750523 -1.03151382  1.54356784\n",
            "  1.970623    0.46554394  0.40344879 -0.38878075  0.25826014  1.97900549\n",
            "  0.15736329  0.11156121 -1.34952207  1.7965553   0.72278105  0.10058439\n",
            "  1.20205524  0.15042829  0.82575615  3.38889774  1.702792   -0.20991142\n",
            "  0.62101711  1.86964192  1.87268517  2.00842552 -0.39962761  0.92440571\n",
            " -1.27520536  2.14979576  1.69527717  1.06624378  1.37536708  1.49912412\n",
            " -0.48296274 -0.19881182 -0.45136152  0.64240058  1.89685762  0.22409761\n",
            "  1.1783178   1.80010785 -0.2099434   1.29974703 -0.67821068  2.51449502\n",
            "  1.03083066  1.02654118  0.620451   -0.03420452  0.40138476 -0.26879511\n",
            "  0.14769651 -0.68460086  1.39902904  1.33888282  0.12831301  0.98755342\n",
            "  0.63141426 -1.20705895  2.5390692  -1.01900279  0.25116914  0.52493528\n",
            "  0.18561978  0.87326979  0.93744399  0.64699071  0.76944753 -1.21742006\n",
            "  1.14723839  1.31534121 -0.27321899  1.95779764 -0.08109798  0.59027604\n",
            "  1.18796382 -2.50555285  1.57892256  0.01414893  0.6019644   1.33354043\n",
            "  0.69055659  0.69612735  1.03450551 -0.38392169  0.94043703  0.34959919\n",
            "  1.96589327  1.74905022 -0.95163949 -2.25373159  1.77514628  0.65488546\n",
            "  0.69341658 -0.84125342 -0.79430993  0.43329026  0.18537277  1.38344035\n",
            " -0.60748632 -0.31200778  0.31106266  2.13775058 -1.00252809  1.44429113\n",
            "  0.22711951  1.20118595 -2.01874112  0.5478177   0.39972652  0.58510697\n",
            " -0.73145093  1.56789875 -0.26535372 -1.40727599  0.62123937  2.1110445 ]\n",
            "auc: 0.7008844813722862 fpr: [0.         0.         0.         0.02439024 0.02439024 0.04878049\n",
            " 0.04878049 0.09756098 0.09756098 0.14634146 0.14634146 0.17073171\n",
            " 0.17073171 0.19512195 0.19512195 0.2195122  0.2195122  0.24390244\n",
            " 0.24390244 0.26829268 0.26829268 0.34146341 0.34146341 0.36585366\n",
            " 0.36585366 0.41463415 0.41463415 0.46341463 0.46341463 0.48780488\n",
            " 0.48780488 0.51219512 0.51219512 0.58536585 0.58536585 0.6097561\n",
            " 0.6097561  0.63414634 0.63414634 0.68292683 0.68292683 0.73170732\n",
            " 0.73170732 0.82926829 0.82926829 0.90243902 0.90243902 0.95121951\n",
            " 0.95121951 0.97560976 0.97560976 1.         1.        ] tpr: [0.         0.01098901 0.15384615 0.15384615 0.17582418 0.17582418\n",
            " 0.28571429 0.28571429 0.32967033 0.32967033 0.3956044  0.3956044\n",
            " 0.46153846 0.46153846 0.48351648 0.48351648 0.52747253 0.52747253\n",
            " 0.53846154 0.53846154 0.61538462 0.61538462 0.62637363 0.62637363\n",
            " 0.69230769 0.69230769 0.7032967  0.7032967  0.71428571 0.71428571\n",
            " 0.74725275 0.74725275 0.75824176 0.75824176 0.79120879 0.79120879\n",
            " 0.8021978  0.8021978  0.91208791 0.91208791 0.92307692 0.92307692\n",
            " 0.93406593 0.93406593 0.95604396 0.95604396 0.96703297 0.96703297\n",
            " 0.97802198 0.97802198 0.98901099 0.98901099 1.        ] thresh: [ 4.38889774  3.38889774  1.95779764  1.89685762  1.86964192  1.80010785\n",
            "  1.49912412  1.44429113  1.33888282  1.31534121  1.1783178   1.14723839\n",
            "  0.94043703  0.93744399  0.92440571  0.87326979  0.69612735  0.69341658\n",
            "  0.69055659  0.65488546  0.6019644   0.5478177   0.52493528  0.46554394\n",
            "  0.34959919  0.29517058  0.25826014  0.22711951  0.22409761  0.18561978\n",
            "  0.15042829  0.14769651  0.12831301  0.01414893 -0.08109798 -0.09372597\n",
            " -0.19881182 -0.20991142 -0.44696897 -0.48296274 -0.53890999 -0.62389982\n",
            " -0.67821068 -0.84125342 -1.00252809 -1.20705895 -1.21742006 -1.34952207\n",
            " -1.40727599 -2.01874112 -2.25373159 -2.25811669 -2.50555285]\n"
          ],
          "name": "stdout"
        }
      ]
    },
    {
      "cell_type": "code",
      "metadata": {
        "id": "jdvjdKkLzRj_"
      },
      "source": [
        "data['val_y'], pred"
      ],
      "execution_count": null,
      "outputs": []
    },
    {
      "cell_type": "code",
      "metadata": {
        "id": "yiGNmYQomI28"
      },
      "source": [
        "# build DNN model\n",
        "\n",
        "from keras.layers import Input, Dense, Dropout\n",
        "from keras.models import Model\n",
        "\n",
        "input_features = data['train_x'].shape[1]\n",
        "\n",
        "# build the network\n",
        "inputs = Input(shape=(input_features,), name='input')\n",
        "x = Dense(64, activation='relu', name='hidden1', kernel_regularizer='l2')(inputs)\n",
        "x = Dropout(0.5)(x)\n",
        "x = Dense(32, activation='relu', name='hidden2', kernel_regularizer='l2')(x)\n",
        "x = Dense(16, activation='relu', name='hidden3')(x)\n",
        "x = Dense(8, activation='relu', name='hidden4')(x)\n",
        "x = Dense(4, activation='relu', name='hidden5')(x)\n",
        "prediction = Dense(1, activation='sigmoid', name='final')(inputs)\n",
        "model = Model(inputs=inputs, outputs=prediction)\n",
        "model.compile(optimizer='adam', loss='binary_crossentropy', metrics=['accuracy'])\n",
        "\n"
      ],
      "execution_count": null,
      "outputs": []
    },
    {
      "cell_type": "code",
      "metadata": {
        "id": "qtpCfoWDpk4n"
      },
      "source": [
        "model.fit(x=data['train_x'], y=data['train_y'], \\\n",
        "          batch_size=32, epochs=300, verbose=1, validation_data=(data['val_x'], data['val_y']))"
      ],
      "execution_count": null,
      "outputs": []
    },
    {
      "cell_type": "code",
      "metadata": {
        "id": "tOTSKzV4u4B9"
      },
      "source": [
        ""
      ],
      "execution_count": null,
      "outputs": []
    }
  ]
}