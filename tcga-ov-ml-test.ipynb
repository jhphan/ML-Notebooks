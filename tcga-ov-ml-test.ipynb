{
  "nbformat": 4,
  "nbformat_minor": 0,
  "metadata": {
    "colab": {
      "name": "Untitled1.ipynb",
      "provenance": [],
      "authorship_tag": "ABX9TyNR2rQtk8wHMdyBo8z9IRGc",
      "include_colab_link": true
    },
    "kernelspec": {
      "name": "python3",
      "display_name": "Python 3"
    },
    "language_info": {
      "name": "python"
    },
    "accelerator": "GPU"
  },
  "cells": [
    {
      "cell_type": "markdown",
      "metadata": {
        "id": "view-in-github",
        "colab_type": "text"
      },
      "source": [
        "<a href=\"https://colab.research.google.com/github/jhphan/ML-Notebooks/blob/main/tcga-ov-ml-test.ipynb\" target=\"_parent\"><img src=\"https://colab.research.google.com/assets/colab-badge.svg\" alt=\"Open In Colab\"/></a>"
      ]
    },
    {
      "cell_type": "code",
      "metadata": {
        "id": "M6BEFHj2dd5a"
      },
      "source": [
        "# authenticate to gcloud\n",
        "!gcloud auth application-default login"
      ],
      "execution_count": null,
      "outputs": []
    },
    {
      "cell_type": "code",
      "metadata": {
        "id": "veP6gPatu2iW"
      },
      "source": [
        "# udpate these variables\n",
        "client_project = 'cgc-05-0051'\n",
        "cancer_type = 'TCGA-OV'\n",
        "project = 'isb-cgc-bq'"
      ],
      "execution_count": 31,
      "outputs": []
    },
    {
      "cell_type": "code",
      "metadata": {
        "id": "YyiPNZ4uwpwP"
      },
      "source": [
        "# Load dependencies\n",
        "from google.cloud import bigquery\n",
        "import pandas as pd\n",
        "from sklearn.preprocessing import StandardScaler\n"
      ],
      "execution_count": 32,
      "outputs": []
    },
    {
      "cell_type": "code",
      "metadata": {
        "id": "HNkfSXedwzbC"
      },
      "source": [
        "# Create a client to access the data within BigQuery\n",
        "client = bigquery.Client(client_project)"
      ],
      "execution_count": null,
      "outputs": []
    },
    {
      "cell_type": "code",
      "metadata": {
        "id": "WYKK8nT7Rzpa"
      },
      "source": [
        "# Get the list of unique proteins to create a pivot table\n",
        "protein_names = client.query(\n",
        "  (\"\"\"\n",
        "    SELECT CONCAT(\n",
        "      '(\"',\n",
        "      STRING_AGG(\n",
        "        DISTINCT CONCAT('p_', REPLACE(protein_name, \"-\", \"_\")), '\", \"'\n",
        "      ),\n",
        "      '\")'\n",
        "    ) AS protein_names \n",
        "    FROM `{}.TCGA.protein_expression_hg38_gdc_current`\n",
        "  \"\"\").format(project)\n",
        ").result().to_dataframe()['protein_names'][0]\n",
        "protein_names"
      ],
      "execution_count": null,
      "outputs": []
    },
    {
      "cell_type": "code",
      "metadata": {
        "id": "fvsIkkJ3P3r-"
      },
      "source": [
        "# Join clinical and protein expression data to create a labeled pivot table\n",
        "protein_expression = client.query(\n",
        "  (\"\"\"\n",
        "    SELECT * FROM (\n",
        "      SELECT \n",
        "        pe.case_barcode AS sample,\n",
        "        labels.survival_label AS label,\n",
        "        CONCAT('p_', REPLACE(pe.protein_name, \"-\", \"_\")) AS protein_name,\n",
        "        pe.protein_expression AS protein_expression\n",
        "      FROM `isb-cgc-bq.TCGA.protein_expression_hg38_gdc_current` AS pe\n",
        "      INNER JOIN (\n",
        "        SELECT *\n",
        "        FROM (\n",
        "          SELECT\n",
        "            submitter_id,\n",
        "            demo__vital_status,\n",
        "            demo__days_to_death,\n",
        "            diag__days_to_last_follow_up,\n",
        "            CASE\n",
        "              WHEN demo__vital_status = 'Dead' AND demo__days_to_death < 365*5 THEN 0\n",
        "              WHEN (\n",
        "                (demo__vital_status = 'Dead' AND demo__days_to_death >= 365*5)\n",
        "                OR (demo__vital_status = 'Alive' AND diag__days_to_last_follow_up >= 365*5)\n",
        "              ) THEN 1\n",
        "            END AS survival_label\n",
        "          FROM `{}.TCGA.clinical_gdc_current`\n",
        "          WHERE proj__project_id = '{}'\n",
        "        )\n",
        "        WHERE survival_label IS NOT NULL\n",
        "      ) labels\n",
        "      ON labels.submitter_id = pe.case_barcode\n",
        "    )\n",
        "    PIVOT (\n",
        "      MAX(protein_expression) FOR protein_name IN {}\n",
        "    )\n",
        "    ORDER BY sample ASC\n",
        "  \"\"\").format(project, cancer_type, protein_names)\n",
        ").result().to_dataframe()\n",
        "protein_expression"
      ],
      "execution_count": null,
      "outputs": []
    },
    {
      "cell_type": "code",
      "metadata": {
        "id": "kgN1PtBvhNpx"
      },
      "source": [
        "# find and remove samples that have no valid protein values (all missing)\n",
        "samples_notnull = protein_expression.loc[:, 'p_AR':].notnull().sum(axis=1)>0\n",
        "# find and remove proteins that have any NULL values\n",
        "proteins_notnull = pd.Series(\n",
        "  [True, True],\n",
        "  index=['sample', 'label']\n",
        ").append(\n",
        "  protein_expression.loc[:, 'p_AR':].isnull().sum(axis=0)==0\n",
        ")\n",
        "# create a new filtered DF\n",
        "protein_expression_filtered = protein_expression.loc[samples_notnull, proteins_notnull]\n",
        "protein_expression_filtered"
      ],
      "execution_count": null,
      "outputs": []
    },
    {
      "cell_type": "code",
      "metadata": {
        "id": "VF90HWh_SM5e"
      },
      "source": [
        "# remove sample names from table\n",
        "protein_expression_filtered.pop('sample')\n",
        "\n",
        "# split data into train, val, and test sets\n",
        "train_data = protein_expression_filtered.sample(frac=0.8, random_state=1)\n",
        "val_data = protein_expression_filtered.drop(train_data.index)\n",
        "test_data = val_data.sample(frac=0.5, random_state=1)\n",
        "val_data = val_data.drop(test_data.index)\n",
        "\n",
        "data = dict()\n",
        "data['train_y'] = train_data.pop('label')\n",
        "data['val_y'] = val_data.pop('label')\n",
        "data['test_y'] = test_data.pop('label')\n",
        "\n",
        "scaler = StandardScaler()\n",
        "data['train_x'] = scaler.fit_transform(train_data)\n",
        "data['val_x'] = scaler.transform(val_data)\n",
        "data['test_x'] = scaler.transform(test_data)\n",
        "\n",
        "data['scaler'] = scaler"
      ],
      "execution_count": 37,
      "outputs": []
    },
    {
      "cell_type": "code",
      "metadata": {
        "id": "yiGNmYQomI28"
      },
      "source": [
        "# build DNN model\n",
        "\n",
        "from keras.layers import Input, Dense, Dropout\n",
        "from keras.models import Model\n",
        "\n",
        "input_features = data['train_x'].shape[1]\n",
        "\n",
        "# build the network\n",
        "inputs = Input(shape=(input_features,), name='input')\n",
        "x = Dense(128, activation='relu', name='hidden1', kernel_regularizer='l2')(inputs)\n",
        "x = Dropout(0.25)(x)\n",
        "x = Dense(64, activation='relu', name='hidden2', kernel_regularizer='l2')(x)\n",
        "#x = Dropout(0.5)(x)\n",
        "x = Dense(32, activation='relu', name='hidden3', kernel_regularizer='l2')(x)\n",
        "#x = Dropout(0.2)(x)\n",
        "x = Dense(16, activation='relu', name='hidden4', kernel_regularizer='l2')(x)\n",
        "#x = Dropout(0.5)(x)\n",
        "x = Dense(8, activation='relu', name='hidden5', kernel_regularizer='l2')(x)\n",
        "#x = Dropout(0.5)(x)\n",
        "x = Dense(4, activation='relu', name='hidden6', kernel_regularizer='l2')(x)\n",
        "#x = Dropout(0.5)(x)\n",
        "#x = Dense(2, activation='relu', name='hidden7', kernel_regularizer='l2')(x)\n",
        "#x = Dropout(0.5)(x)\n",
        "prediction = Dense(1, activation='sigmoid', name='final')(x)\n",
        "model = Model(inputs=inputs, outputs=prediction)\n",
        "model.compile(optimizer='adam', loss='binary_crossentropy', metrics=['accuracy'])\n",
        "\n"
      ],
      "execution_count": 108,
      "outputs": []
    },
    {
      "cell_type": "code",
      "metadata": {
        "id": "qtpCfoWDpk4n"
      },
      "source": [
        "model.fit(x=data['train_x'], y=data['train_y'], \\\n",
        "          batch_size=32, epochs=200, verbose=1, validation_data=(data['val_x'], data['val_y']))"
      ],
      "execution_count": null,
      "outputs": []
    },
    {
      "cell_type": "code",
      "metadata": {
        "id": "Qk1QbGqrX_2u"
      },
      "source": [
        "# calculate absolute fold change for each protein in the training set abs(mean(5+ year survive)-mean(<5 year death))\n",
        "train_pos = train_data.label == 1\n",
        "train_neg = train_data.label == 0\n",
        "train_fold_change = abs(train_data.loc[train_pos, 'p_AR':].mean(axis=0) - train_data.loc[train_neg, 'p_AR':].mean(axis=0))\n",
        "# get the top 10\n",
        "top_train_fold_change = train_fold_change.sort_values(ascending=False).head(10)\n",
        "top_train_fold_change\n",
        "\n",
        "# index the training data like this: train_data.loc[train_neg,top_train_fold_change.index]\n"
      ],
      "execution_count": null,
      "outputs": []
    },
    {
      "cell_type": "code",
      "metadata": {
        "id": "h4Lb836iRPLR"
      },
      "source": [
        ""
      ],
      "execution_count": null,
      "outputs": []
    }
  ]
}