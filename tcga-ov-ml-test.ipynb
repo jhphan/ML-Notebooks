{
  "nbformat": 4,
  "nbformat_minor": 0,
  "metadata": {
    "colab": {
      "name": "Untitled1.ipynb",
      "provenance": [],
      "authorship_tag": "ABX9TyOznrC9BDtUhCQzd+dh9XgV",
      "include_colab_link": true
    },
    "kernelspec": {
      "name": "python3",
      "display_name": "Python 3"
    },
    "language_info": {
      "name": "python"
    }
  },
  "cells": [
    {
      "cell_type": "markdown",
      "metadata": {
        "id": "view-in-github",
        "colab_type": "text"
      },
      "source": [
        "<a href=\"https://colab.research.google.com/github/jhphan/ML-Notebooks/blob/main/tcga-ov-ml-test.ipynb\" target=\"_parent\"><img src=\"https://colab.research.google.com/assets/colab-badge.svg\" alt=\"Open In Colab\"/></a>"
      ]
    },
    {
      "cell_type": "code",
      "metadata": {
        "id": "M6BEFHj2dd5a"
      },
      "source": [
        "# authenticate to gcloud\n",
        "!gcloud auth application-default login"
      ],
      "execution_count": null,
      "outputs": []
    },
    {
      "cell_type": "code",
      "metadata": {
        "id": "veP6gPatu2iW"
      },
      "source": [
        "# udpate these variables\n",
        "client_project = 'cgc-05-0051'\n",
        "cancer_type = 'TCGA-OV'\n",
        "project = 'isb-cgc-bq'"
      ],
      "execution_count": 3,
      "outputs": []
    },
    {
      "cell_type": "code",
      "metadata": {
        "id": "YyiPNZ4uwpwP"
      },
      "source": [
        "# Load dependencies\n",
        "from google.cloud import bigquery\n",
        "import pandas as pd"
      ],
      "execution_count": 4,
      "outputs": []
    },
    {
      "cell_type": "code",
      "metadata": {
        "id": "HNkfSXedwzbC"
      },
      "source": [
        "# Create a client to access the data within BigQuery\n",
        "client = bigquery.Client(client_project)"
      ],
      "execution_count": null,
      "outputs": []
    },
    {
      "cell_type": "code",
      "metadata": {
        "id": "WYKK8nT7Rzpa"
      },
      "source": [
        "# Get the list of unique proteins to create a pivot table\n",
        "protein_names = client.query(\n",
        "  (\"\"\"\n",
        "    SELECT CONCAT(\n",
        "      '(\"',\n",
        "      STRING_AGG(\n",
        "        DISTINCT CONCAT('p_', REPLACE(protein_name, \"-\", \"_\")), '\", \"'\n",
        "      ),\n",
        "      '\")'\n",
        "    ) AS protein_names \n",
        "    FROM `{}.TCGA.protein_expression_hg38_gdc_current`\n",
        "  \"\"\").format(project)\n",
        ").result().to_dataframe()['protein_names'][0]\n",
        "protein_names"
      ],
      "execution_count": null,
      "outputs": []
    },
    {
      "cell_type": "code",
      "metadata": {
        "id": "fvsIkkJ3P3r-"
      },
      "source": [
        "# Join clinical and protein expression data to create a labeled pivot table\n",
        "protein_expression = client.query(\n",
        "  (\"\"\"\n",
        "    SELECT * FROM (\n",
        "      SELECT \n",
        "        pe.case_barcode AS sample,\n",
        "        labels.survival_label AS label,\n",
        "        CONCAT('p_', REPLACE(pe.protein_name, \"-\", \"_\")) AS protein_name,\n",
        "        pe.protein_expression AS protein_expression\n",
        "      FROM `isb-cgc-bq.TCGA.protein_expression_hg38_gdc_current` AS pe\n",
        "      INNER JOIN (\n",
        "        SELECT *\n",
        "        FROM (\n",
        "          SELECT\n",
        "            submitter_id,\n",
        "            demo__vital_status,\n",
        "            demo__days_to_death,\n",
        "            diag__days_to_last_follow_up,\n",
        "            CASE\n",
        "              WHEN demo__vital_status = 'Dead' AND demo__days_to_death < 365*5 THEN 0\n",
        "              WHEN (\n",
        "                (demo__vital_status = 'Dead' AND demo__days_to_death >= 365*5)\n",
        "                OR (demo__vital_status = 'Alive' AND diag__days_to_last_follow_up >= 365*5)\n",
        "              ) THEN 1\n",
        "            END AS survival_label\n",
        "          FROM `{}.TCGA.clinical_gdc_current`\n",
        "          WHERE proj__project_id = '{}'\n",
        "        )\n",
        "        WHERE survival_label IS NOT NULL\n",
        "      ) labels\n",
        "      ON labels.submitter_id = pe.case_barcode\n",
        "    )\n",
        "    PIVOT (\n",
        "      MAX(protein_expression) FOR protein_name IN {}\n",
        "    )\n",
        "    ORDER BY sample ASC\n",
        "  \"\"\").format(project, cancer_type, protein_names)\n",
        ").result().to_dataframe()\n",
        "protein_expression"
      ],
      "execution_count": null,
      "outputs": []
    },
    {
      "cell_type": "code",
      "metadata": {
        "id": "kgN1PtBvhNpx"
      },
      "source": [
        "# find and remove samples that have no valid protein values (all missing)\n",
        "samples_notnull = protein_expression.loc[:, 'p_AR':].notnull().sum(axis=1)>0\n",
        "# find and remove proteins that have any NULL values\n",
        "proteins_notnull = pd.Series(\n",
        "  [True, True],\n",
        "  index=['sample', 'label']\n",
        ").append(\n",
        "  protein_expression.loc[:, 'p_AR':].isnull().sum(axis=0)==0\n",
        ")\n",
        "# create a new filtered DF\n",
        "protein_expression_filtered = protein_expression.loc[samples_notnull, proteins_notnull]\n",
        "protein_expression_filtered"
      ],
      "execution_count": null,
      "outputs": []
    },
    {
      "cell_type": "code",
      "metadata": {
        "id": "VF90HWh_SM5e"
      },
      "source": [
        "# split data into train and test sets\n",
        "train_data = protein_expression_filtered.sample(frac=0.5, random_state=0)\n",
        "test_data = protein_expression_filtered.drop(train_data.index)"
      ],
      "execution_count": 127,
      "outputs": []
    },
    {
      "cell_type": "code",
      "metadata": {
        "id": "Qk1QbGqrX_2u"
      },
      "source": [
        "# calculate absolute fold change for each protein in the training set abs(mean(5+ year survive)-mean(<5 year death))\n",
        "train_pos = train_data.label == 1\n",
        "train_neg = train_data.label == 0\n",
        "train_fold_change = abs(train_data.loc[train_pos, 'p_AR':].mean(axis=0) - train_data.loc[train_neg, 'p_AR':].mean(axis=0))\n",
        "# get the top 10\n",
        "top_train_fold_change = train_fold_change.sort_values(ascending=False).head(10)\n",
        "top_train_fold_change\n",
        "\n",
        "# index the training data like this: train_data.loc[train_neg,top_train_fold_change.index]\n"
      ],
      "execution_count": null,
      "outputs": []
    },
    {
      "cell_type": "code",
      "metadata": {
        "id": "uQCaJZV_UNym"
      },
      "source": [
        "# build a classifier with the training data\n",
        "\n"
      ],
      "execution_count": null,
      "outputs": []
    }
  ]
}