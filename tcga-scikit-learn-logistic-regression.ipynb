{
  "nbformat": 4,
  "nbformat_minor": 0,
  "metadata": {
    "colab": {
      "name": "Untitled1.ipynb",
      "provenance": [],
      "authorship_tag": "ABX9TyMTY5ic2ra6B/L3wTwJUR6Y",
      "include_colab_link": true
    },
    "kernelspec": {
      "name": "python3",
      "display_name": "Python 3"
    },
    "language_info": {
      "name": "python"
    },
    "accelerator": "GPU"
  },
  "cells": [
    {
      "cell_type": "markdown",
      "metadata": {
        "id": "view-in-github",
        "colab_type": "text"
      },
      "source": [
        "<a href=\"https://colab.research.google.com/github/jhphan/ML-Notebooks/blob/main/tcga-scikit-learn-logistic-regression.ipynb\" target=\"_parent\"><img src=\"https://colab.research.google.com/assets/colab-badge.svg\" alt=\"Open In Colab\"/></a>"
      ]
    },
    {
      "cell_type": "code",
      "metadata": {
        "id": "M6BEFHj2dd5a"
      },
      "source": [
        "# authenticate to gcloud\n",
        "!gcloud auth application-default login"
      ],
      "execution_count": null,
      "outputs": []
    },
    {
      "cell_type": "code",
      "metadata": {
        "id": "veP6gPatu2iW"
      },
      "source": [
        "# udpate these variables\n",
        "client_project = 'cgc-05-0051'\n",
        "cancer_type = 'TCGA-GBM'\n",
        "project = 'isb-cgc-bq'"
      ],
      "execution_count": 85,
      "outputs": []
    },
    {
      "cell_type": "code",
      "metadata": {
        "id": "YyiPNZ4uwpwP"
      },
      "source": [
        "# Load dependencies\n",
        "from google.cloud import bigquery\n",
        "import pandas as pd\n",
        "from sklearn.preprocessing import StandardScaler\n"
      ],
      "execution_count": 3,
      "outputs": []
    },
    {
      "cell_type": "code",
      "metadata": {
        "id": "HNkfSXedwzbC"
      },
      "source": [
        "# Create a client to access the data within BigQuery\n",
        "client = bigquery.Client(client_project)"
      ],
      "execution_count": null,
      "outputs": []
    },
    {
      "cell_type": "code",
      "metadata": {
        "id": "Py_JW_kXAlxX"
      },
      "source": [
        "# Get the list of unique proteins to create a pivot table\n",
        "demo_gender = client.query(\n",
        "  (\"\"\"\n",
        "    SELECT count(demo__gender) as number, demo__gender from `{}.TCGA.clinical_gdc_current` where proj__project_id = '{}' group by demo__gender\n",
        "  \"\"\").format(project, cancer_type)\n",
        ").result().to_dataframe()\n",
        "demo_gender"
      ],
      "execution_count": null,
      "outputs": []
    },
    {
      "cell_type": "code",
      "metadata": {
        "id": "WYKK8nT7Rzpa"
      },
      "source": [
        "# Get the list of unique proteins to create a pivot table\n",
        "protein_names = client.query(\n",
        "  (\"\"\"\n",
        "    SELECT CONCAT(\n",
        "      '(\"',\n",
        "      STRING_AGG(\n",
        "        DISTINCT CONCAT('p_', REPLACE(protein_name, \"-\", \"_\")), '\", \"'\n",
        "      ),\n",
        "      '\")'\n",
        "    ) AS protein_names \n",
        "    FROM `{}.TCGA.protein_expression_hg38_gdc_current`\n",
        "  \"\"\").format(project)\n",
        ").result().to_dataframe()['protein_names'][0]\n",
        "protein_names"
      ],
      "execution_count": null,
      "outputs": []
    },
    {
      "cell_type": "code",
      "metadata": {
        "id": "fvsIkkJ3P3r-"
      },
      "source": [
        "# Join clinical and protein expression data to create a labeled pivot table\n",
        "protein_expression = client.query(\n",
        "  (\"\"\"\n",
        "    SELECT * FROM (\n",
        "      SELECT \n",
        "        pe.case_barcode AS sample,\n",
        "        labels.gender AS label,\n",
        "        CONCAT('p_', REPLACE(pe.protein_name, \"-\", \"_\")) AS protein_name,\n",
        "        pe.protein_expression AS protein_expression\n",
        "      FROM `{}.TCGA.protein_expression_hg38_gdc_current` AS pe\n",
        "      INNER JOIN (\n",
        "        SELECT *\n",
        "        FROM (\n",
        "          SELECT\n",
        "            submitter_id,\n",
        "            demo__gender,\n",
        "            CASE\n",
        "              WHEN demo__gender = 'female' THEN 1\n",
        "              WHEN demo__gender = 'male' THEN 0\n",
        "            END AS gender\n",
        "          FROM `{}.TCGA.clinical_gdc_current`\n",
        "          WHERE proj__project_id = '{}'\n",
        "        )\n",
        "        WHERE demo__gender IN ('male', 'female')\n",
        "      ) labels\n",
        "      ON labels.submitter_id = pe.case_barcode\n",
        "    )\n",
        "    PIVOT (\n",
        "      MAX(protein_expression) FOR protein_name IN {}\n",
        "    )\n",
        "    ORDER BY sample ASC\n",
        "  \"\"\").format(project, project, cancer_type, protein_names)\n",
        ").result().to_dataframe()\n",
        "protein_expression"
      ],
      "execution_count": null,
      "outputs": []
    },
    {
      "cell_type": "code",
      "metadata": {
        "id": "kgN1PtBvhNpx"
      },
      "source": [
        "# find and remove samples that have no valid protein values (all missing)\n",
        "samples_notnull = protein_expression.loc[:, 'p_AR':].notnull().sum(axis=1)>0\n",
        "# find and remove proteins that have any NULL values\n",
        "proteins_notnull = pd.Series(\n",
        "  [True, True],\n",
        "  index=['sample', 'label']\n",
        ").append(\n",
        "  protein_expression.loc[:, 'p_AR':].isnull().sum(axis=0)==0\n",
        ")\n",
        "# create a new filtered DF\n",
        "protein_expression_filtered = protein_expression.loc[samples_notnull, proteins_notnull]\n",
        "protein_expression_filtered"
      ],
      "execution_count": null,
      "outputs": []
    },
    {
      "cell_type": "code",
      "metadata": {
        "id": "VF90HWh_SM5e"
      },
      "source": [
        "# remove sample names from table\n",
        "pd.set_option('max_rows', 99999)\n",
        "protein_expression_filtered.pop('sample')\n",
        "\n",
        "# split data into train, val, and test sets\n",
        "train_data = protein_expression_filtered.sample(frac=0.8, random_state=1).sort_index()\n",
        "#print(train_data)\n",
        "\n",
        "val_data = protein_expression_filtered.drop(train_data.index)\n",
        "test_data = val_data.sample(frac=0.5, random_state=1).sort_index()\n",
        "val_data = val_data.drop(test_data.index)\n",
        "#print(test_data)\n",
        "#print(val_data)\n",
        "\n",
        "data = dict()\n",
        "data['train_y'] = train_data.pop('label')\n",
        "data['val_y'] = val_data.pop('label')\n",
        "data['test_y'] = test_data.pop('label')\n",
        "#print(data['train_y'])\n",
        "#print(data['val_y'])\n",
        "#print(data['test_y'])\n",
        "\n",
        "# calculate fold change and get top 20 proteins\n",
        "train_fold_change = abs(train_data.loc[data['train_y']==1, 'p_AR':].mean(axis=0) - train_data.loc[data['train_y']==0, 'p_AR':].mean(axis=0))\n",
        "top_train_fold_change = train_fold_change.sort_values(ascending=False).head(20)\n",
        "\n",
        "#scaler = StandardScaler()\n",
        "data['train_x'] = scaler.fit_transform(train_data.loc[:,top_train_fold_change.index])\n",
        "data['val_x'] = scaler.transform(val_data.loc[:,top_train_fold_change.index])\n",
        "data['test_x'] = scaler.transform(test_data.loc[:,top_train_fold_change.index])\n",
        "\n",
        "#data['train_x'] = train_data\n",
        "#data['val_x'] = val_data\n",
        "#data['test_x'] = test_data\n",
        "\n",
        "\n",
        "#data['scaler'] = scaler"
      ],
      "execution_count": 109,
      "outputs": []
    },
    {
      "cell_type": "code",
      "metadata": {
        "id": "hA1vX7_wex_r"
      },
      "source": [
        "print(top_train_fold_change)"
      ],
      "execution_count": null,
      "outputs": []
    },
    {
      "cell_type": "code",
      "metadata": {
        "id": "RGY5mKD3ys8L",
        "outputId": "cbc8f4b1-3164-4d64-e195-03bedd5ee63b",
        "colab": {
          "base_uri": "https://localhost:8080/"
        }
      },
      "source": [
        "from sklearn.linear_model import LogisticRegression\n",
        "from sklearn.metrics import accuracy_score\n",
        "\n",
        "lr = LogisticRegression()\n",
        "lr.fit(data['train_x'], data['train_y'])\n",
        "pred = lr.predict(data['val_x'])\n",
        "acc = accuracy_score(data['val_y'], pred)\n",
        "print('accuracy:', acc)\n",
        "\n"
      ],
      "execution_count": 110,
      "outputs": [
        {
          "output_type": "stream",
          "text": [
            "accuracy: 0.6875\n"
          ],
          "name": "stdout"
        }
      ]
    },
    {
      "cell_type": "code",
      "metadata": {
        "id": "lGKttHCbckbJ"
      },
      "source": [
        ""
      ],
      "execution_count": null,
      "outputs": []
    }
  ]
}